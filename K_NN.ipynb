{
 "cells": [
  {
   "cell_type": "code",
   "execution_count": null,
   "metadata": {},
   "outputs": [],
   "source": [
    "from sklearn.neighbors import KNeighborsClassifier\n",
    "from sklearn.model_selection import train_test_split\n",
    "from imutils import paths\n",
    "import numpy as np\n",
    "import argparse\n",
    "import imutils\n",
    "import cv2\n",
    "import os"
   ]
  },
  {
   "cell_type": "markdown",
   "metadata": {},
   "source": [
    "# Convert img to feature vector"
   ]
  },
  {
   "cell_type": "code",
   "execution_count": null,
   "metadata": {},
   "outputs": [],
   "source": [
    "def image_to_feature_vector(image, size=(32,32)):\n",
    "    return cv2.resize(image, size).flatten()"
   ]
  },
  {
   "cell_type": "code",
   "execution_count": null,
   "metadata": {},
   "outputs": [],
   "source": [
    "def extract_color_histogram(image, bins=(8, 8, 8)):\n",
    "    hsv = cv2.cvtColor(image, cv2.COLOR_BGR2HSV)\n",
    "    hist = cv2.calcHist([hsv], [0, 1, 2], None, bins, [0, 180, 0, 256, 0, 256])\n",
    "    if imutils.is_cv2():\n",
    "        hist = cv2.normalize(hist)\n",
    "    else:\n",
    "        cv2.normalize(hist, hist)\n",
    "    return hist.flatten()"
   ]
  },
  {
   "cell_type": "code",
   "execution_count": null,
   "metadata": {},
   "outputs": [],
   "source": [
    "# grab the list of images that we'll be describing\n",
    "print(\"[INFO] describing images...\")\n",
    "imagePaths = r\"D:\\machinelearning_algorithm\\dataset\\train\"\n",
    "# initialize the raw pixel intensities matrix, the features matrix,\n",
    "# and labels list\n",
    "rawImages = []\n",
    "features = []\n",
    "labels = []\n",
    "# print(os.listdir(imagePaths))\n",
    "for (i, imagepath) in enumerate(os.listdir(imagePaths)):\n",
    "    image = cv2.imread(os.path.join(r\"D:\\machinelearning_algorithm\\dataset\\train\",imagepath))\n",
    "    label = imagepath.split(os.path.sep)[-1].split('.')[0]\n",
    "#     print(image.shape, label)\n",
    "    pixel = image_to_feature_vector(image)\n",
    "    hist = extract_color_histogram(image)\n",
    "    \n",
    "    rawImages.append(pixel)\n",
    "    features.append(hist)\n",
    "    labels.append(label)\n",
    "    \n",
    "    if i > 0 and i % 1000 == 0:\n",
    "        print(\"[INFO] processed {}/{}\".format(i, len(os.listdir(imagePaths))))\n",
    "#     print(imagepath, label)"
   ]
  },
  {
   "cell_type": "code",
   "execution_count": null,
   "metadata": {},
   "outputs": [],
   "source": [
    "# show some information on the memory consumed by the raw images\n",
    "# matrix and features matrix\n",
    "rawImages = np.array(rawImages)\n",
    "features = np.array(features)\n",
    "labels = np.array(labels)\n",
    "print(\"[INFO] pixels matrix: {:.2f}MB\".format(rawImages.nbytes / (1024*1024.0)))\n",
    "print(\"[INFO] feature matrix: {:.2f}MB\".format(features.nbytes / (1024*1024.0)))"
   ]
  },
  {
   "cell_type": "code",
   "execution_count": null,
   "metadata": {},
   "outputs": [],
   "source": [
    "(trainRI, testRI, trainRL, testRL) = train_test_split(rawImages, labels, test_size=0.25, random_state=42)\n",
    "(trainFeat, testFeat, trainLabels, testLabels) = train_test_split(features, labels, test_size=0.25, random_state=42)"
   ]
  },
  {
   "cell_type": "code",
   "execution_count": null,
   "metadata": {},
   "outputs": [],
   "source": [
    "# train and evaluate a K-NN on the raw pixel intensities\n",
    "print(\"[INFO] evaluating raw pixel accuracy ..\")\n",
    "model = KNeighborsClassifier(n_neighbors=1, n_jobs=-1)\n",
    "model.fit(trainRI, trainRL)\n",
    "acc = model.score(testRI, testRL)\n",
    "print(\"[INFO] raw pixel accuracy: {:.2f}%\".format(acc*100))"
   ]
  },
  {
   "cell_type": "code",
   "execution_count": null,
   "metadata": {},
   "outputs": [],
   "source": [
    "# train and evaluate a K-NN on the histogram\n",
    "print(\"[INFO] evaluating raw pixel accuracy ..\")\n",
    "model = KNeighborsClassifier(n_neighbors=1, n_jobs=-1)\n",
    "model.fit(trainFeat, trainLabels)\n",
    "acc = model.score(testFeat, testLabels)\n",
    "print(\"[INFO] raw pixel accuracy: {:.2f}%\".format(acc*100))"
   ]
  },
  {
   "cell_type": "code",
   "execution_count": null,
   "metadata": {},
   "outputs": [],
   "source": [
    "# Finding the best k in k-NN:\n",
    "k_search = 0\n",
    "max_acc = 0\n",
    "for k in range(1, 100):\n",
    "    model = KNeighborsClassifier(n_neighbors=k, n_jobs=-1)\n",
    "    model.fit(trainRI, trainRL)\n",
    "    acc = model.score(testRI, testRL)\n",
    "    if acc > max_acc:\n",
    "        max_acc = acc\n",
    "        k_search = k\n",
    "print(f'Best accuracy {max_acc} at k_value {k_search}')"
   ]
  },
  {
   "cell_type": "code",
   "execution_count": null,
   "metadata": {},
   "outputs": [],
   "source": [
    "import matplotlib.pyplot as plt\n",
    "k_search = 0\n",
    "max_acc = 0\n",
    "list_accuracy = []\n",
    "list_k = []\n",
    "for k in range(1, 100):\n",
    "    model = KNeighborsClassifier(n_neighbors=k, n_jobs=-1)\n",
    "    model.fit(trainRI, trainRL)\n",
    "    acc = model.score(testRI, testRL)\n",
    "    list_accuracy.append(acc)\n",
    "    if acc > max_acc:\n",
    "        max_acc = acc\n",
    "        k_search = k\n",
    "    list_k.append(k)\n",
    "plt.plot(list_accuracy, list_k)\n",
    "plt.show()"
   ]
  },
  {
   "cell_type": "code",
   "execution_count": null,
   "metadata": {},
   "outputs": [],
   "source": []
  }
 ],
 "metadata": {
  "kernelspec": {
   "display_name": "Python 3",
   "language": "python",
   "name": "python3"
  },
  "language_info": {
   "codemirror_mode": {
    "name": "ipython",
    "version": 3
   },
   "file_extension": ".py",
   "mimetype": "text/x-python",
   "name": "python",
   "nbconvert_exporter": "python",
   "pygments_lexer": "ipython3",
   "version": "3.7.4"
  }
 },
 "nbformat": 4,
 "nbformat_minor": 2
}
